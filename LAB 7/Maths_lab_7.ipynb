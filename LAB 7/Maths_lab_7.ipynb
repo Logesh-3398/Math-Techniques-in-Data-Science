{
  "nbformat": 4,
  "nbformat_minor": 0,
  "metadata": {
    "colab": {
      "provenance": []
    },
    "kernelspec": {
      "name": "python3",
      "display_name": "Python 3"
    },
    "language_info": {
      "name": "python"
    }
  },
  "cells": [
    {
      "cell_type": "markdown",
      "source": [
        "# Maths Lab - 7\n",
        "\n",
        "## Teammates:\n",
        "#### Akshita Potdar - 702768460\n",
        "#### Kalyani Khandait - 702768391\n",
        "#### Logesh Gangadharan - 702723890\n"
      ],
      "metadata": {
        "id": "UVXVZBfRdy0B"
      }
    },
    {
      "cell_type": "markdown",
      "source": [
        "## Problem -1\n",
        "\n",
        "\n",
        "\n",
        "Train a neural network with one or more Linear layers to\n",
        "predict the digits. Train your model on the given training set,\n",
        "and measure its accuracy on the given test set"
      ],
      "metadata": {
        "id": "bt4EhiGsdywi"
      }
    },
    {
      "cell_type": "code",
      "source": [
        "\n",
        "import torch\n",
        "import torch.nn as nn\n",
        "import numpy as np\n",
        "import pandas as pd\n",
        "import matplotlib.pyplot as plt\n",
        "from sklearn.model_selection import train_test_split\n",
        "from sklearn.preprocessing import StandardScaler, OneHotEncoder\n",
        "from sklearn.metrics import accuracy_score\n",
        "from torch.utils.data import DataLoader, TensorDataset\n",
        "\n",
        "from google.colab import drive\n",
        "drive.mount('/content/drive')\n",
        "\n",
        "train_df = pd.read_csv('/content/drive/My Drive/zip.train', header=None, sep=r'\\s+')\n",
        "test_df = pd.read_csv('/content/drive/My Drive/zip.test', header=None, sep=r'\\s+')\n",
        "\n",
        "X_train_data = train_df.iloc[:, 1:].values\n",
        "y_train_data = train_df.iloc[:, 0].values\n",
        "X_test_data = test_df.iloc[:, 1:].values\n",
        "y_test_data = test_df.iloc[:, 0].values\n",
        "\n",
        "\n",
        "plt.figure(figsize=(12, 6))\n",
        "for idx in range(5):\n",
        "    plt.subplot(1, 5, idx + 1)\n",
        "    plt.imshow(X_train_data[idx, :].reshape(16, 16), cmap='gray')\n",
        "    plt.title(f'Class: {y_train_data[idx]}')\n",
        "    plt.axis('off')\n",
        "plt.tight_layout()\n",
        "plt.show()\n",
        "\n",
        "\n",
        "encoder = OneHotEncoder(sparse_output=False)\n",
        "y_train_encoded = encoder.fit_transform(y_train_data.reshape(-1, 1))\n",
        "y_test_encoded = encoder.transform(y_test_data.reshape(-1, 1))\n",
        "\n",
        "\n",
        "class SimpleNN(nn.Module):\n",
        "    def __init__(self):\n",
        "        super(SimpleNN, self).__init__()\n",
        "        self.layer1 = nn.Linear(16 * 16, 128)\n",
        "        self.layer2 = nn.Linear(128, 64)\n",
        "        self.layer3 = nn.Linear(64, 10)  # Output layer for 10 classes\n",
        "\n",
        "    def forward(self, x):\n",
        "        x = torch.relu(self.layer1(x))\n",
        "        x = torch.relu(self.layer2(x))\n",
        "        x = self.layer3(x)\n",
        "        return x\n",
        "\n",
        "#dataset into PyTorch tensors\n",
        "X_train_tensor = torch.tensor(X_train_data, dtype=torch.float32)\n",
        "y_train_tensor = torch.tensor(y_train_data, dtype=torch.long)\n",
        "X_test_tensor = torch.tensor(X_test_data, dtype=torch.float32)\n",
        "y_test_tensor = torch.tensor(y_test_data, dtype=torch.long)\n",
        "\n",
        "\n",
        "batch_size = 64\n",
        "train_tensor_dataset = TensorDataset(X_train_tensor, y_train_tensor)\n",
        "train_data_loader = DataLoader(train_tensor_dataset, batch_size=batch_size, shuffle=True)\n",
        "\n",
        "\n",
        "model = SimpleNN()\n",
        "\n",
        "\n",
        "loss_function = nn.CrossEntropyLoss()\n",
        "optimizer = torch.optim.Adam(model.parameters(), lr=0.001)\n",
        "\n",
        "# Training\n",
        "epochs = 300\n",
        "for epoch in range(epochs):\n",
        "    model.train()\n",
        "    total_loss = 0.0\n",
        "    for inputs, targets in train_data_loader:\n",
        "        optimizer.zero_grad()\n",
        "        predictions = model(inputs)\n",
        "        loss = loss_function(predictions, targets)\n",
        "        loss.backward()\n",
        "        optimizer.step()\n",
        "        total_loss += loss.item()\n",
        "    if (epoch + 1) % 30 == 0:\n",
        "        print(f'Epoch [{epoch+1}/{epochs}], Average Loss: {total_loss / len(train_data_loader):.4f}')\n",
        "\n",
        "# evalution\n",
        "model.eval()\n",
        "with torch.no_grad():\n",
        "    test_predictions = model(X_test_tensor)\n",
        "    _, predicted_classes = torch.max(test_predictions, 1)\n",
        "    test_accuracy = accuracy_score(y_test_tensor, predicted_classes)\n",
        "\n",
        "print(f'\\nTest Accuracy: {test_accuracy * 100:.2f}%')\n"
      ],
      "metadata": {
        "colab": {
          "base_uri": "https://localhost:8080/",
          "height": 437
        },
        "id": "UYjCRpNPWjFs",
        "outputId": "74e268de-c7bf-47d4-da99-67da372b36cc"
      },
      "execution_count": null,
      "outputs": [
        {
          "output_type": "stream",
          "name": "stdout",
          "text": [
            "Drive already mounted at /content/drive; to attempt to forcibly remount, call drive.mount(\"/content/drive\", force_remount=True).\n"
          ]
        },
        {
          "output_type": "display_data",
          "data": {
            "text/plain": [
              "<Figure size 1200x600 with 5 Axes>"
            ],
            "image/png": "[encoded data removed]"
          },
          "metadata": {}
        },
        {
          "output_type": "stream",
          "name": "stdout",
          "text": [
            "Epoch [30/300], Average Loss: 0.0060\n",
            "Epoch [60/300], Average Loss: 0.0134\n",
            "Epoch [90/300], Average Loss: 0.0008\n",
            "Epoch [120/300], Average Loss: 0.0007\n",
            "Epoch [150/300], Average Loss: 0.0007\n",
            "Epoch [180/300], Average Loss: 0.0009\n",
            "Epoch [210/300], Average Loss: 0.0009\n",
            "Epoch [240/300], Average Loss: 0.0004\n"
          ]
        }
      ]
    },
    {
      "cell_type": "markdown",
      "source": [
        "## Problem -2\n",
        "\n",
        "\n",
        "Build a more sophisticated convolutional neural network model\n",
        "to predict the digits. Use at least one 2d convolution layer\n",
        "with several filters followed by a max pool. Your model should\n",
        "end with Linear layers"
      ],
      "metadata": {
        "id": "ngYgOIwtkb6m"
      }
    },
    {
      "cell_type": "code",
      "source": [
        "import numpy as np\n",
        "import pandas as pd\n",
        "import matplotlib.pyplot as plt\n",
        "from sklearn.preprocessing import OneHotEncoder\n",
        "import torch\n",
        "import torch.nn as nn\n",
        "import torch.optim as optim\n",
        "from torch.utils.data import DataLoader, TensorDataset\n",
        "from google.colab import drive\n",
        "\n",
        "drive.mount('/content/drive')\n",
        "\n",
        "train_file_path = '/content/drive/My Drive/zip.train'\n",
        "test_file_path = '/content/drive/My Drive/zip.test'\n",
        "\n",
        "\n",
        "train_data = pd.read_csv(train_file_path, delim_whitespace=True, header=None)\n",
        "test_data = pd.read_csv(test_file_path, delim_whitespace=True, header=None)\n",
        "\n",
        "\n",
        "X_train = train_data.iloc[:, 1:].values\n",
        "Y_train = train_data.iloc[:, 0].values\n",
        "X_test = test_data.iloc[:, 1:].values\n",
        "Y_test = test_data.iloc[:, 0].values\n",
        "\n",
        "\n",
        "plt.figure(figsize=(10, 5))\n",
        "plt.subplot(1, 2, 1)\n",
        "plt.imshow(X_train[0, :].reshape(16, 16), cmap='gray')\n",
        "plt.title(f\"Label: {int(Y_train[0])}\")\n",
        "plt.axis('off')\n",
        "plt.subplot(1, 2, 2)\n",
        "plt.imshow(X_train[1, :].reshape(16, 16), cmap='gray')\n",
        "plt.title(f\"Label: {int(Y_train[1])}\")\n",
        "plt.axis('off')\n",
        "plt.show()\n",
        "\n",
        "# One-Hot Encoding\n",
        "encoder = OneHotEncoder(sparse_output=False)\n",
        "y_train_onehot = encoder.fit_transform(Y_train.reshape(-1, 1))\n",
        "y_test_onehot = encoder.transform(Y_test.reshape(-1, 1))\n",
        "\n",
        "print(\"Shape of y_train after one-hot encoding:\", y_train_onehot.shape)\n",
        "print(\"Shape of y_test after one-hot encoding:\", y_test_onehot.shape)\n",
        "\n",
        "# Enhanced CNN Model\n",
        "class OptimizedDigitClassifier(nn.Module):\n",
        "    def __init__(self):\n",
        "        super(OptimizedDigitClassifier, self).__init__()\n",
        "        self.conv1 = nn.Conv2d(1, 64, 3, padding=1)\n",
        "        self.bn1 = nn.BatchNorm2d(64)\n",
        "        self.conv2 = nn.Conv2d(64, 128, 3, padding=1)\n",
        "        self.bn2 = nn.BatchNorm2d(128)\n",
        "        self.conv3 = nn.Conv2d(128, 256, 3, padding=1)\n",
        "        self.bn3 = nn.BatchNorm2d(256)\n",
        "        self.pool = nn.MaxPool2d(2, 2)\n",
        "        self.dropout = nn.Dropout(0.3)\n",
        "        self.fc1 = nn.Linear(256 * 2 * 2, 256)\n",
        "        self.fc2 = nn.Linear(256, 128)\n",
        "        self.fc3 = nn.Linear(128, 10)\n",
        "\n",
        "    def forward(self, x):\n",
        "        x = self.pool(torch.relu(self.bn1(self.conv1(x))))\n",
        "        x = self.dropout(x)\n",
        "        x = self.pool(torch.relu(self.bn2(self.conv2(x))))\n",
        "        x = self.dropout(x)\n",
        "        x = self.pool(torch.relu(self.bn3(self.conv3(x))))\n",
        "        x = x.view(-1, 256 * 2 * 2)\n",
        "        x = torch.relu(self.fc1(x))\n",
        "        x = self.dropout(x)\n",
        "        x = torch.relu(self.fc2(x))\n",
        "        x = self.fc3(x)\n",
        "        return x\n",
        "\n",
        "\n",
        "X_train_tensor = torch.tensor(X_train, dtype=torch.float32).reshape(-1, 1, 16, 16)\n",
        "X_test_tensor = torch.tensor(X_test, dtype=torch.float32).reshape(-1, 1, 16, 16)\n",
        "y_train_tensor = torch.tensor(Y_train, dtype=torch.long)\n",
        "y_test_tensor = torch.tensor(Y_test, dtype=torch.long)\n",
        "\n",
        "\n",
        "train_dataset = TensorDataset(X_train_tensor, y_train_tensor)\n",
        "test_dataset = TensorDataset(X_test_tensor, y_test_tensor)\n",
        "train_loader = DataLoader(train_dataset, batch_size=64, shuffle=True)\n",
        "test_loader = DataLoader(test_dataset, batch_size=64, shuffle=False)\n",
        "\n",
        "\n",
        "model = OptimizedDigitClassifier()\n",
        "criterion = nn.CrossEntropyLoss()\n",
        "optimizer = optim.Adam(model.parameters(), lr=0.001)\n",
        "scheduler = optim.lr_scheduler.StepLR(optimizer, step_size=5, gamma=0.5)\n",
        "\n",
        "# training Model\n",
        "def train_model(num_epochs=25):\n",
        "    for epoch in range(num_epochs):\n",
        "        model.train()\n",
        "        running_loss = 0.0\n",
        "        for inputs, labels in train_loader:\n",
        "            optimizer.zero_grad()\n",
        "            outputs = model(inputs)\n",
        "            loss = criterion(outputs, labels)\n",
        "            loss.backward()\n",
        "            optimizer.step()\n",
        "            running_loss += loss.item()\n",
        "        scheduler.step()\n",
        "        print(f'Epoch [{epoch+1}/{num_epochs}], Loss: {running_loss/len(train_loader):.4f}')\n",
        "\n",
        "\n",
        "def evaluate_model():\n",
        "    model.eval()\n",
        "    correct = 0\n",
        "    total = 0\n",
        "    with torch.no_grad():\n",
        "        for inputs, labels in test_loader:\n",
        "            outputs = model(inputs)\n",
        "            _, predicted = torch.max(outputs, 1)\n",
        "            total += labels.size(0)\n",
        "            correct += (predicted == labels).sum().item()\n",
        "    accuracy = correct / total\n",
        "    print(f'Test Accuracy: {accuracy * 100:.2f}%')\n",
        "\n",
        "# testing\n",
        "train_model(num_epochs=25)\n",
        "evaluate_model()\n"
      ],
      "metadata": {
        "colab": {
          "base_uri": "https://localhost:8080/",
          "height": 984
        },
        "id": "XT-hM16pkj91",
        "outputId": "781e1673-90f9-4363-da5b-d7db2054090b"
      },
      "execution_count": null,
      "outputs": [
        {
          "output_type": "stream",
          "name": "stdout",
          "text": [
            "Drive already mounted at /content/drive; to attempt to forcibly remount, call drive.mount(\"/content/drive\", force_remount=True).\n"
          ]
        },
        {
          "output_type": "stream",
          "name": "stderr",
          "text": [
            "<ipython-input-6-cf6e15f428a3>:19: FutureWarning: The 'delim_whitespace' keyword in pd.read_csv is deprecated and will be removed in a future version. Use ``sep='\\s+'`` instead\n",
            "  train_data = pd.read_csv(train_file_path, delim_whitespace=True, header=None)\n",
            "<ipython-input-6-cf6e15f428a3>:20: FutureWarning: The 'delim_whitespace' keyword in pd.read_csv is deprecated and will be removed in a future version. Use ``sep='\\s+'`` instead\n",
            "  test_data = pd.read_csv(test_file_path, delim_whitespace=True, header=None)\n"
          ]
        },
        {
          "output_type": "display_data",
          "data": {
            "text/plain": [
              "<Figure size 1000x500 with 2 Axes>"
            ],
            "image/png": "[encoded data removed]"
          },
          "metadata": {}
        },
        {
          "output_type": "stream",
          "name": "stdout",
          "text": [
            "Shape of y_train after one-hot encoding: (7291, 10)\n",
            "Shape of y_test after one-hot encoding: (2007, 10)\n",
            "Epoch [1/25], Loss: 0.5373\n",
            "Epoch [2/25], Loss: 0.1008\n",
            "Epoch [3/25], Loss: 0.0791\n",
            "Epoch [4/25], Loss: 0.0593\n",
            "Epoch [5/25], Loss: 0.0503\n",
            "Epoch [6/25], Loss: 0.0327\n",
            "Epoch [7/25], Loss: 0.0269\n",
            "Epoch [8/25], Loss: 0.0278\n",
            "Epoch [9/25], Loss: 0.0181\n",
            "Epoch [10/25], Loss: 0.0222\n",
            "Epoch [11/25], Loss: 0.0165\n",
            "Epoch [12/25], Loss: 0.0105\n",
            "Epoch [13/25], Loss: 0.0102\n",
            "Epoch [14/25], Loss: 0.0103\n",
            "Epoch [15/25], Loss: 0.0097\n",
            "Epoch [16/25], Loss: 0.0090\n",
            "Epoch [17/25], Loss: 0.0101\n",
            "Epoch [18/25], Loss: 0.0098\n",
            "Epoch [19/25], Loss: 0.0063\n",
            "Epoch [20/25], Loss: 0.0071\n",
            "Epoch [21/25], Loss: 0.0055\n",
            "Epoch [22/25], Loss: 0.0078\n",
            "Epoch [23/25], Loss: 0.0085\n",
            "Epoch [24/25], Loss: 0.0072\n",
            "Epoch [25/25], Loss: 0.0055\n",
            "Test Accuracy: 97.16%\n"
          ]
        }
      ]
    },
    {
      "cell_type": "code",
      "source": [],
      "metadata": {
        "id": "ABMhNnxtoBTn"
      },
      "execution_count": null,
      "outputs": []
    },
    {
      "cell_type": "code",
      "source": [],
      "metadata": {
        "id": "2ZVtcD4a49cA"
      },
      "execution_count": null,
      "outputs": []
    }
  ]
}